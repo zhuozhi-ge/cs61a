{
 "cells": [
  {
   "cell_type": "code",
   "execution_count": 3,
   "metadata": {},
   "outputs": [],
   "source": [
    "def make_adder_inc(n):\n",
    "    \"\"\"\n",
    "    >>> adder1 = make_adder_inc(5)\n",
    "    >>> adder2 = make_adder_inc(6)\n",
    "    >>> adder1(2) \n",
    "    7\n",
    "    >>> adder1(2) # 5 + 2 + 1\n",
    "    8\n",
    "    >>> adder1(10) # 5 + 10 + 2\n",
    "    17\n",
    "    >>> [adder1(x) for x in [1, 2, 3]]\n",
    "    [9, 11, 13]\n",
    "    >>> adder2(5)\n",
    "    11\n",
    "    \"\"\"\n",
    "    def adder(num):\n",
    "        nonlocal n\n",
    "        n += 1\n",
    "        return num -1 + n\n",
    "    return adder"
   ]
  },
  {
   "cell_type": "code",
   "execution_count": 7,
   "metadata": {},
   "outputs": [],
   "source": [
    "def make_fib():\n",
    "    \"\"\"Returns a function that returns the next Fibonacci number\n",
    "    every time it is called.\n",
    "\n",
    "    >>> fib = make_fib()\n",
    "    >>> fib()\n",
    "    0\n",
    "    >>> fib()\n",
    "    1\n",
    "    >>> fib()\n",
    "    1\n",
    "    >>> fib()\n",
    "    2\n",
    "    >>> fib()\n",
    "    3\n",
    "    >>> fib2 = make_fib()\n",
    "    >>> fib() + sum([fib2() for _ in range(5)])\n",
    "    12\n",
    "    \"\"\"\n",
    "    curr, after = 0, 1\n",
    "    def fib():\n",
    "        nonlocal curr, after\n",
    "        ans = curr\n",
    "        curr, after = after, curr + after\n",
    "        return ans\n",
    "    return fib"
   ]
  },
  {
   "cell_type": "code",
   "execution_count": 9,
   "metadata": {},
   "outputs": [],
   "source": [
    "def naturals():\n",
    "    \"\"\"A generator function that yields the infinite sequence of natural\n",
    "    numbers, starting at 1.\n",
    "\n",
    "    >>> m = naturals()\n",
    "    >>> type(m)\n",
    "    <class 'generator'>\n",
    "    >>> [next(m) for _ in range(10)]\n",
    "    [1, 2, 3, 4, 5, 6, 7, 8, 9, 10]\n",
    "    \"\"\"\n",
    "    i = 1\n",
    "    while True:\n",
    "        yield i\n",
    "        i += 1"
   ]
  },
  {
   "cell_type": "code",
   "execution_count": 12,
   "metadata": {},
   "outputs": [],
   "source": [
    "def scale(it, multiplier):\n",
    "    \"\"\"Yield elements of the iterable it scaled by a number multiplier.\n",
    "\n",
    "    >>> m = scale([1, 5, 2], 5)\n",
    "    >>> type(m)\n",
    "    <class 'generator'>\n",
    "    >>> list(m)\n",
    "    [5, 25, 10]\n",
    "\n",
    "    >>> m = scale(naturals(), 2)\n",
    "    >>> [next(m) for _ in range(5)]\n",
    "    [2, 4, 6, 8, 10]\n",
    "    \"\"\"\n",
    "    yield from map(lambda x: x * multiplier, it)"
   ]
  },
  {
   "cell_type": "code",
   "execution_count": 29,
   "metadata": {},
   "outputs": [],
   "source": [
    "def hailstone(n):\n",
    "    \"\"\"\n",
    "    >>> for num in hailstone(10):\n",
    "    ...     print(num)\n",
    "    ...\n",
    "    10\n",
    "    5\n",
    "    16\n",
    "    8\n",
    "    4\n",
    "    2\n",
    "    1\n",
    "    \"\"\"\n",
    "#     yield n\n",
    "#     while n != 1:\n",
    "#         if n % 2 == 0:\n",
    "#             n = n // 2\n",
    "#         else:\n",
    "#             n = n * 3 + 1\n",
    "#         yield n\n",
    "    yield n\n",
    "    if n != 1:\n",
    "        if n % 2 == 0:\n",
    "            yield from hailstone(n // 2)\n",
    "        else:\n",
    "            yield from hailstone(n * 3 + 1)"
   ]
  },
  {
   "cell_type": "code",
   "execution_count": 30,
   "metadata": {},
   "outputs": [],
   "source": [
    "from doctest import run_docstring_examples as test\n",
    "\n",
    "test(hailstone, globals())"
   ]
  }
 ],
 "metadata": {
  "kernelspec": {
   "display_name": "Python 3",
   "language": "python",
   "name": "python3"
  },
  "language_info": {
   "codemirror_mode": {
    "name": "ipython",
    "version": 3
   },
   "file_extension": ".py",
   "mimetype": "text/x-python",
   "name": "python",
   "nbconvert_exporter": "python",
   "pygments_lexer": "ipython3",
   "version": "3.7.7"
  }
 },
 "nbformat": 4,
 "nbformat_minor": 4
}

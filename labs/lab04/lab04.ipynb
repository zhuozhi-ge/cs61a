{
 "cells": [
  {
   "cell_type": "code",
   "execution_count": 1,
   "metadata": {},
   "outputs": [],
   "source": [
    "from doctest import run_docstring_examples as test"
   ]
  },
  {
   "cell_type": "code",
   "execution_count": 3,
   "metadata": {},
   "outputs": [
    {
     "data": {
      "text/plain": [
       "9"
      ]
     },
     "execution_count": 3,
     "metadata": {},
     "output_type": "execute_result"
    }
   ],
   "source": [
    "def skip_add(n):\n",
    "    \"\"\" Takes a number n and returns n + n-2 + n-4 + n-6 + ... + 0.\n",
    "\n",
    "    >>> skip_add(5)  # 5 + 3 + 1 + 0\n",
    "    9\n",
    "    >>> skip_add(10) # 10 + 8 + 6 + 4 + 2 + 0\n",
    "    30\n",
    "    >>> # Do not use while/for loops!\n",
    "    \"\"\"\n",
    "    \"*** YOUR CODE HERE ***\"\n",
    "    if n == 0:\n",
    "        return n\n",
    "    elif n == 1:\n",
    "        return 1\n",
    "    return n + skip_add(n-2)\n",
    "\n",
    "skip_add(5)"
   ]
  },
  {
   "cell_type": "code",
   "execution_count": 6,
   "metadata": {},
   "outputs": [],
   "source": [
    "def summation(n, term):\n",
    "\n",
    "    \"\"\"Return the sum of the first n terms in the sequence defined by term.\n",
    "    Implement using recursion!\n",
    "\n",
    "    >>> summation(5, lambda x: x * x * x) # 1^3 + 2^3 + 3^3 + 4^3 + 5^3\n",
    "    225\n",
    "    >>> summation(9, lambda x: x + 1) # 2 + 3 + 4 + 5 + 6 + 7 + 8 + 9 + 10\n",
    "    54\n",
    "    >>> summation(5, lambda x: 2**x) # 2^1 + 2^2 + 2^3 + 2^4 + 2^5\n",
    "    62\n",
    "    >>> # Do not use while/for loops!\n",
    "    \"\"\"\n",
    "    assert n >= 1\n",
    "    \"*** YOUR CODE HERE ***\"\n",
    "    if n == 1:\n",
    "        return term(1)\n",
    "    else:\n",
    "        return summation(n-1, term) + term(n)\n",
    "    "
   ]
  },
  {
   "cell_type": "code",
   "execution_count": 8,
   "metadata": {},
   "outputs": [],
   "source": [
    "def gcd(a, b):\n",
    "    \"\"\"Returns the greatest common divisor of a and b.\n",
    "    Should be implemented using recursion.\n",
    "\n",
    "    >>> gcd(34, 19)\n",
    "    1\n",
    "    >>> gcd(39, 91)\n",
    "    13\n",
    "    >>> gcd(20, 30)\n",
    "    10\n",
    "    >>> gcd(40, 40)\n",
    "    40\n",
    "    \"\"\"\n",
    "    \"*** YOUR CODE HERE ***\"\n",
    "    a, b = max(a, b), min(a, b)\n",
    "    if a % b == 0:\n",
    "        return b\n",
    "    else:\n",
    "        return gcd(b, a % b)\n",
    "    "
   ]
  },
  {
   "cell_type": "code",
   "execution_count": 10,
   "metadata": {},
   "outputs": [],
   "source": [
    "def paths(m, n):\n",
    "    \"\"\"Return the number of paths from one corner of an\n",
    "    M by N grid to the opposite corner.\n",
    "\n",
    "    >>> paths(2, 2)\n",
    "    2\n",
    "    >>> paths(5, 7)\n",
    "    210\n",
    "    >>> paths(117, 1)\n",
    "    1\n",
    "    >>> paths(1, 157)\n",
    "    1\n",
    "    \"\"\"\n",
    "    \"*** YOUR CODE HERE ***\"\n",
    "    if m == 1 or n == 1:\n",
    "        return 1\n",
    "    else:\n",
    "        return paths(m-1, n) + paths(m, n-1)\n",
    "    "
   ]
  },
  {
   "cell_type": "code",
   "execution_count": 24,
   "metadata": {},
   "outputs": [],
   "source": [
    "def max_subseq(n, l):\n",
    "    \"\"\"\n",
    "    Return the maximum subsequence of length at most l that can be found in the given number n.\n",
    "\n",
    "    >>> max_subseq(20125, 3)\n",
    "    225\n",
    "    >>> max_subseq(20125, 5)\n",
    "    20125\n",
    "    >>> max_subseq(20125, 6) # note that 20125 == 020125\n",
    "    20125\n",
    "    >>> max_subseq(12345, 3)\n",
    "    345\n",
    "    >>> max_subseq(12345, 0) # 0 is of length 0\n",
    "    0\n",
    "    >>> max_subseq(12345, 1)\n",
    "    5\n",
    "    \"\"\"\n",
    "    \"*** YOUR CODE HERE ***\"\n",
    "    if n // (10**l) == 0:\n",
    "        return n\n",
    "    elif l == 0:\n",
    "        return 0\n",
    "    return max(max_subseq(n // 10, l), max_subseq(n // 10, l-1) * 10 + n % 10)"
   ]
  },
  {
   "cell_type": "code",
   "execution_count": 25,
   "metadata": {},
   "outputs": [],
   "source": [
    "test(max_subseq, globals(), verbose=False)"
   ]
  }
 ],
 "metadata": {
  "kernelspec": {
   "display_name": "Python 3",
   "language": "python",
   "name": "python3"
  },
  "language_info": {
   "codemirror_mode": {
    "name": "ipython",
    "version": 3
   },
   "file_extension": ".py",
   "mimetype": "text/x-python",
   "name": "python",
   "nbconvert_exporter": "python",
   "pygments_lexer": "ipython3",
   "version": "3.7.7"
  }
 },
 "nbformat": 4,
 "nbformat_minor": 4
}

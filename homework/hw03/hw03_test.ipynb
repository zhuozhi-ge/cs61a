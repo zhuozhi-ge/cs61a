{
 "cells": [
  {
   "cell_type": "code",
   "execution_count": 54,
   "metadata": {},
   "outputs": [],
   "source": [
    "def num_sevens(x):\n",
    "    \"\"\"Returns the number of times 7 appears as a digit of x. No assignment statements.\n",
    "\n",
    "    >>> num_sevens(3)\n",
    "    0\n",
    "    >>> num_sevens(7)\n",
    "    1\n",
    "    >>> num_sevens(7777777)\n",
    "    7\n",
    "    >>> num_sevens(2637)\n",
    "    1\n",
    "    >>> num_sevens(76370)\n",
    "    2\n",
    "    >>> num_sevens(12345)\n",
    "    0\n",
    "\n",
    "    \"\"\"\n",
    "    \"*** YOUR CODE HERE ***\"\n",
    "    if x < 10:\n",
    "        if x == 7:\n",
    "            return 1\n",
    "        else:\n",
    "            return 0\n",
    "    return num_sevens(x // 10) + num_sevens(x % 10)"
   ]
  },
  {
   "cell_type": "code",
   "execution_count": 64,
   "metadata": {},
   "outputs": [
    {
     "data": {
      "text/plain": [
       "3"
      ]
     },
     "execution_count": 64,
     "metadata": {},
     "output_type": "execute_result"
    }
   ],
   "source": [
    "def pingpong(n):\n",
    "    \"\"\"Return the nth element of the ping-pong sequence. No assignment statements.\n",
    "\n",
    "    >>> pingpong(7)\n",
    "    7\n",
    "    >>> pingpong(8)\n",
    "    6\n",
    "    >>> pingpong(15)\n",
    "    1\n",
    "    >>> pingpong(21)\n",
    "    -1\n",
    "    >>> pingpong(22)\n",
    "    0\n",
    "    >>> pingpong(30)\n",
    "    6\n",
    "    >>> pingpong(68)\n",
    "    2\n",
    "    >>> pingpong(69)\n",
    "    1\n",
    "    >>> pingpong(70)\n",
    "    0\n",
    "    >>> pingpong(71)\n",
    "    1\n",
    "    >>> pingpong(72)\n",
    "    0\n",
    "    >>> pingpong(100)\n",
    "    2\n",
    "    \"\"\"\n",
    "#     ans = 0\n",
    "#     adder = -1\n",
    "#     for i in range(1, n+1):\n",
    "#         if (i-1) % 7 == 0 or num_sevens(i-1) != 0:\n",
    "#             adder *= -1 \n",
    "#         ans += adder\n",
    "#     return ans\n",
    "    def helper(i, adder, ans):\n",
    "        if i == n+1:\n",
    "            return ans\n",
    "        if (i-1) % 7 == 0 or num_sevens(i-1) != 0:\n",
    "            return helper(i+1, adder*(-1), ans+adder*(-1))\n",
    "        else:\n",
    "            return helper(i+1, adder, ans+adder)\n",
    "    return helper(1, -1, 0)\n",
    "\n",
    "pingpong(3)"
   ]
  },
  {
   "cell_type": "code",
   "execution_count": 102,
   "metadata": {},
   "outputs": [
    {
     "data": {
      "text/plain": [
       "9828"
      ]
     },
     "execution_count": 102,
     "metadata": {},
     "output_type": "execute_result"
    }
   ],
   "source": [
    "def count_change(total):\n",
    "    \"\"\"Return the number of ways to make change for total.\n",
    "\n",
    "    >>> count_change(7)\n",
    "    6\n",
    "    >>> count_change(10)\n",
    "    14\n",
    "    >>> count_change(20)\n",
    "    60\n",
    "    >>> count_change(100)\n",
    "    9828\n",
    "    \"\"\"\n",
    "    import math\n",
    "    temp = 2**int(math.log(total, 2))\n",
    "    def helper(n, m):\n",
    "        if n == 0:\n",
    "            return 1\n",
    "        if m == 1:\n",
    "            return 1\n",
    "        if n < m:\n",
    "            return helper(n, m / 2)\n",
    "        return helper(n - m, m) + helper(n, m / 2)\n",
    "    return helper(total, temp)\n",
    "\n",
    "count_change(100)"
   ]
  },
  {
   "cell_type": "code",
   "execution_count": 106,
   "metadata": {},
   "outputs": [
    {
     "data": {
      "text/plain": [
       "4"
      ]
     },
     "execution_count": 106,
     "metadata": {},
     "output_type": "execute_result"
    }
   ],
   "source": [
    "def missing_digits(n):\n",
    "    \"\"\"Given a number a that is in sorted, increasing order,\n",
    "    return the number of missing digits in n. A missing digit is\n",
    "    a number between the first and last digit of a that is not in n.\n",
    "    >>> missing_digits(1248) # 3, 5, 6, 7\n",
    "    4\n",
    "    >>> missing_digits(1122) # No missing numbers\n",
    "    0\n",
    "    >>> missing_digits(123456) # No missing numbers\n",
    "    0\n",
    "    >>> missing_digits(3558) # 4, 6, 7\n",
    "    3\n",
    "    >>> missing_digits(4) # No missing numbers between 4 and 4\n",
    "    0\n",
    "    \"\"\"\n",
    "    if n // 10 == 0:\n",
    "        return 0\n",
    "    if n // 100 == 0:\n",
    "        if n % 10 == n // 10:\n",
    "            return n % 10 - n // 10\n",
    "        else:\n",
    "            return n % 10 - n // 10 - 1\n",
    "    return missing_digits(n // 10) + missing_digits(n % 100)\n",
    "\n",
    "missing_digits(1248)"
   ]
  },
  {
   "cell_type": "code",
   "execution_count": 123,
   "metadata": {},
   "outputs": [],
   "source": [
    "def print_move(origin, destination):\n",
    "    \"\"\"Print instructions to move a disk.\"\"\"\n",
    "    print(\"Move the top disk from rod\", origin, \"to rod\", destination)\n",
    "\n",
    "def move_stack(n, start, end):\n",
    "    \"\"\"Print the moves required to move n disks on the start pole to the end\n",
    "    pole without violating the rules of Towers of Hanoi.\n",
    "\n",
    "    n -- number of disks\n",
    "    start -- a pole position, either 1, 2, or 3\n",
    "    end -- a pole position, either 1, 2, or 3\n",
    "\n",
    "    There are exactly three poles, and start and end must be different. Assume\n",
    "    that the start pole has at least n disks of increasing size, and the end\n",
    "    pole is either empty or has a top disk larger than the top n start disks.\n",
    "\n",
    "    >>> move_stack(1, 1, 3)\n",
    "    Move the top disk from rod 1 to rod 3\n",
    "    >>> move_stack(2, 1, 3)\n",
    "    Move the top disk from rod 1 to rod 2\n",
    "    Move the top disk from rod 1 to rod 3\n",
    "    Move the top disk from rod 2 to rod 3\n",
    "    >>> move_stack(3, 1, 3)\n",
    "    Move the top disk from rod 1 to rod 3\n",
    "    Move the top disk from rod 1 to rod 2\n",
    "    Move the top disk from rod 3 to rod 2\n",
    "    Move the top disk from rod 1 to rod 3\n",
    "    Move the top disk from rod 2 to rod 1\n",
    "    Move the top disk from rod 2 to rod 3\n",
    "    Move the top disk from rod 1 to rod 3\n",
    "    \"\"\"\n",
    "    assert 1 <= start <= 3 and 1 <= end <= 3 and start != end, \"Bad start/end\"\n",
    "    \"*** YOUR CODE HERE ***\"\n",
    "    nums = [1, 2, 3]\n",
    "    nums.remove(start)\n",
    "    nums.remove(end)\n",
    "    other = nums[0]\n",
    "    if n == 1:\n",
    "        print_move(start, end)\n",
    "        return\n",
    "    move_stack(n-1, start, other),\n",
    "    move_stack(1, start, end)\n",
    "    move_stack(n-1, other, end)"
   ]
  },
  {
   "cell_type": "code",
   "execution_count": 125,
   "metadata": {},
   "outputs": [],
   "source": [
    "from operator import sub, mul\n",
    "\n",
    "def make_anonymous_factorial():\n",
    "    \"\"\"Return the value of an expression that computes factorial.\n",
    "\n",
    "    >>> make_anonymous_factorial()(5)\n",
    "    120\n",
    "    \"\"\"\n",
    "    fact1 = lambda f, n1: 1 if n1 == 0 else mul(n1,  f(f, sub(n1, 1)))\n",
    "    return lambda n: fact1(fact1, n)"
   ]
  },
  {
   "cell_type": "code",
   "execution_count": 126,
   "metadata": {},
   "outputs": [],
   "source": [
    "from doctest import run_docstring_examples as test\n",
    "\n",
    "test(make_anonymous_factorial, globals(), verbose=False)"
   ]
  },
  {
   "cell_type": "code",
   "execution_count": null,
   "metadata": {},
   "outputs": [],
   "source": []
  }
 ],
 "metadata": {
  "kernelspec": {
   "display_name": "Python 3",
   "language": "python",
   "name": "python3"
  },
  "language_info": {
   "codemirror_mode": {
    "name": "ipython",
    "version": 3
   },
   "file_extension": ".py",
   "mimetype": "text/x-python",
   "name": "python",
   "nbconvert_exporter": "python",
   "pygments_lexer": "ipython3",
   "version": "3.7.7"
  }
 },
 "nbformat": 4,
 "nbformat_minor": 4
}
